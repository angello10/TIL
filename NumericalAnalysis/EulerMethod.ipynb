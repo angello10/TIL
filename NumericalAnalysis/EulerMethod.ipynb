{
 "cells": [
  {
   "cell_type": "markdown",
   "id": "steady-congress",
   "metadata": {},
   "source": [
    "Euler Method\n",
    "===========\n",
    "\n",
    "By Taylor's theorem, a function can be represented as a Tailor polynomial :  \n",
    "$\\quad f(x) = f(a) + f'(a)(x - a) + {{f''(c)} \\over 2!} (x - a)^2$\n",
    "\n",
    "From above, we can derive following.  \n",
    "\n",
    "For given the initial value problem $y' = f(x, y), \\: y(a) = y_0 \\: (x \\in [a, b])$,  \n",
    "y can be approximated as follow:  \n",
    "> $y_{i+1} = y_i + f(x_i, y_i) \\centerdot h, \\quad (i = 0, 1, \\cdots, n - 1)$  \n",
    "$(h = {{b - a} \\over n}, \\: x_0 = a, \\: x_{i+1} = x_i + h)$"
   ]
  },
  {
   "cell_type": "code",
   "execution_count": 1,
   "id": "velvet-craps",
   "metadata": {
    "scrolled": true
   },
   "outputs": [
    {
     "data": {
      "image/png": "[encoded data removed]",
      "text/plain": [
       "<Figure size 432x288 with 1 Axes>"
      ]
     },
     "metadata": {
      "needs_background": "light"
     },
     "output_type": "display_data"
    }
   ],
   "source": [
    "import numpy as np\n",
    "import matplotlib.pylab as plt\n",
    "from math import exp\n",
    "\n",
    "def euler_method(f, a, b, h, y0):\n",
    "    x = np.arange(a, b + h, h)\n",
    "    y = np.zeros_like(x)\n",
    "    \n",
    "    y[0] = y0\n",
    "    \n",
    "    for i in range(x.size - 1):\n",
    "        y[i + 1] = y[i] + h * f(x[i], y[i])\n",
    "        \n",
    "    return x, y\n",
    "\n",
    "x, approximation = euler_method(lambda x, y: 2 * x * (y + 1), 0, 1, 0.1, 0)\n",
    "\n",
    "exact_solution = []\n",
    "for i in range(len(x)):\n",
    "    exact_solution.append(exp(x[i] ** 2) - 1)\n",
    "\n",
    "plt.plot(x, approximation, color='#6CC0FF')\n",
    "plt.plot(x, exact_solution, color='#FF1291')\n",
    "plt.legend(['euler method', 'f(x,y)'])\n",
    "\n",
    "plt.show()\n"
   ]
  },
  {
   "cell_type": "markdown",
   "id": "dried-sector",
   "metadata": {},
   "source": [
    "If h becomes closer to zero, you can see that the approximation becomes more accurate."
   ]
  }
 ],
 "metadata": {
  "kernelspec": {
   "display_name": "Python 3",
   "language": "python",
   "name": "python3"
  },
  "language_info": {
   "codemirror_mode": {
    "name": "ipython",
    "version": 3
   },
   "file_extension": ".py",
   "mimetype": "text/x-python",
   "name": "python",
   "nbconvert_exporter": "python",
   "pygments_lexer": "ipython3",
   "version": "3.9.0"
  }
 },
 "nbformat": 4,
 "nbformat_minor": 5
}
