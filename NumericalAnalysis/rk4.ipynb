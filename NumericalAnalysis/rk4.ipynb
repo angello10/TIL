{
 "cells": [
  {
   "cell_type": "markdown",
   "id": "binary-nickname",
   "metadata": {},
   "source": [
    "Runge-Kutta Method\n",
    "=================\n",
    "For given the initial value problem $y' = f(x, y), \\: y(a) = y_0 \\: (x \\in [a, b])$,  \n",
    "N-th order Runge-Kutta Method approximate y as follow:  \n",
    "\n",
    "$y_{i+1} = y_i + h (a_1 k_1 + a_2 k_2 + \\cdots + a_n k_n)$  \n",
    "\n",
    "Mostly, 4th order Runge-Kutta Method are used.  \n",
    "\n",
    "$k_1 = f(x_i, y_i)$  \n",
    "$k_2 = f(x_i + {1 \\over 2} h, y_i + {1 \\over 2} h k_1)$  \n",
    "$k_3 = f(x_i + {1 \\over 2} h, y_i + {1 \\over 2} h k_2)$  \n",
    "$k_4 = f(x_i + h, y_i + h k_3)$  \n",
    "\n",
    "$y_{n+1} = y_n + {1 \\over 6} h (k_1 + 2 k_2 + 2 k_3 + k_4)$  \n",
    "$(h = {{b - a} \\over n}, \\: x_0 = a, \\: x_{i+1} = x_i + h)$"
   ]
  },
  {
   "cell_type": "code",
   "execution_count": 1,
   "id": "associate-variation",
   "metadata": {},
   "outputs": [
    {
     "data": {
      "image/png": "[encoded data removed]",
      "text/plain": [
       "<Figure size 432x288 with 1 Axes>"
      ]
     },
     "metadata": {
      "needs_background": "light"
     },
     "output_type": "display_data"
    }
   ],
   "source": [
    "import numpy as np\n",
    "import matplotlib.pylab as plt\n",
    "from math import exp\n",
    "\n",
    "def rk4(f, a, b, h, y):\n",
    "    x = np.arange(a, b + h, h)\n",
    "    y = np.zeros_like(x)\n",
    "\n",
    "    for i in range(x.size - 1):\n",
    "        k_1 = f(x[i], y[i])\n",
    "        k_2 = f(x[i] + h / 2, y[i] + h * k_1 / 2)\n",
    "        k_3 = f(x[i] + h / 2, y[i] + h * k_2 / 2)\n",
    "        k_4 = f(x[i] + h, y[i] + h * k_3)\n",
    "\n",
    "        y[i + 1] = y[i] + h * (k_1 + k_2 * 2 + k_3 * 2 + k_4) / 6\n",
    "        \n",
    "    return x, y\n",
    "\n",
    "x, approximation = rk4(lambda x, y: 2 * x * (y + 1), 0, 1, 0.01, 0)\n",
    "\n",
    "exact_solution = []\n",
    "for i in range(len(x)) :\n",
    "    exact_solution.append(exp(x[i] ** 2) - 1)\n",
    "\n",
    "plt.plot(x, approximation, color='#86E57F')\n",
    "plt.plot(x, exact_solution, color='#FF1291')\n",
    "plt.legend(['rk4 method', 'f(x,y)'])\n",
    "\n",
    "plt.show()\n"
   ]
  }
 ],
 "metadata": {
  "kernelspec": {
   "display_name": "Python 3",
   "language": "python",
   "name": "python3"
  },
  "language_info": {
   "codemirror_mode": {
    "name": "ipython",
    "version": 3
   },
   "file_extension": ".py",
   "mimetype": "text/x-python",
   "name": "python",
   "nbconvert_exporter": "python",
   "pygments_lexer": "ipython3",
   "version": "3.9.0"
  }
 },
 "nbformat": 4,
 "nbformat_minor": 5
}
